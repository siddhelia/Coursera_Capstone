{
 "cells": [
  {
   "cell_type": "markdown",
   "metadata": {},
   "source": [
    "# Capstone Project-Car Accident Severity (Week 1)\n",
    "### Applied Data Science Capstone by IBM/Coursera"
   ]
  },
  {
   "cell_type": "markdown",
   "metadata": {},
   "source": [
    "## Table of contents\n",
    "* [Introduction: Business Problem](#introduction)\n",
    "* [Data](#data)\n",
    "* [Methodology](#methodology)\n",
    "* [Analysis](#analysis)\n",
    "* [Results and Discussion](#results)\n",
    "* [Conclusion](#conclusion)"
   ]
  },
  {
   "cell_type": "markdown",
   "metadata": {},
   "source": [
    "## Introduction: Car Accident Severity <a name=\"introduction\"></a>"
   ]
  },
  {
   "cell_type": "markdown",
   "metadata": {},
   "source": [
    "Motor vehicle accidents continue to be one of the leading causes of accidental deaths and injuries in the United States. It is estimated more than six million car accidents occur each year in the U.S according to the NHTSA and about 6% of all motor vehicle accidents in the United States result in at least one death.\n",
    "Roughly 27% of all vehicle accidents result in nonfatal injuries. However, some of these injuries can cause tremendous pain or lead to permanent disabilities.\n",
    "In this project we will leverage the accident data of \"Seattle city\" to predict the different accidents' severity.\n",
    "Our project can be a valuable asset to Governments, states, provinces and municipalities which could our model \n",
    "in the context of road accident prevention,but also to identify key factors that can lead to a road accident,\n",
    "and consequently, help elaborate new policies.Goverment agencies can also use this data to warn you, given the weather and the road conditions about the possibility of you getting into a car accident and severity of it.This can enable the driver to drive more carefully or even change his travel plans.\n"
   ]
  },
  {
   "cell_type": "markdown",
   "metadata": {},
   "source": [
    "## Data <a name=\"data\"></a>"
   ]
  },
  {
   "cell_type": "markdown",
   "metadata": {},
   "source": [
    "Based on definition of our problem, factors that will influence our decission are:\n",
    "* Number of people and number of vehicles involved in the accident.\n",
    "* Location,whether,road and light conditions are also infudencial factors.\n",
    "* Speed of car and junctions are another factors we would consider.\n",
    "\n",
    "\n",
    "The Following data source will be needed to extract/generate the required information:\n",
    "https://s3.us.cloud-object-storage.appdomain.cloud/cf-courses-data/CognitiveClass/DP0701EN/version-2/Data-Collisions.csv\n",
    "\n",
    "The dataset contains details of car accidents which have taken place within the city of Seattle, Washington in the past fifteen years(2004-2020).The dataset is highly extensive and contains all details of above mentioned factors.\n",
    "\n",
    "\n"
   ]
  },
  {
   "cell_type": "markdown",
   "metadata": {},
   "source": [
    "Data Cleaning"
   ]
  },
  {
   "cell_type": "markdown",
   "metadata": {},
   "source": [
    "There are a lot of problems with the data set keeping in mind that this is a machine learning project which uses classification to predict a categorical variable. The dataset has total observations of 194673 with variation in number of observations for every feature. First of all, the total dataset was high variation in the lengths of almost every column of the dataset. The dataset had a lot of empty columns which could have been beneficial had the data been present there. But since we have have large enough data base,missing entries where removed .Also columns which had no impact in severity of the accidents where omitted from the report and only select few which had most impact on severity of accidents were considered in the study. In order to deal with the issue of columns having a variation in frequency, arrays were made for each column which were encoded according to the original column and had equal proportion of elements as the original column. Then the arrays were imposed on the original columns in the positions which had ‘Other’ and ‘Unknown’ in them. This entire process of cleaning data led to a loss of almost 5000 rows which had redundant data, whereas other rows with unknown values were filled earlier."
   ]
  },
  {
   "cell_type": "markdown",
   "metadata": {},
   "source": [
    "Feature Selection\n",
    "\n",
    "A total of 8 features were selected for this project along with the target variable being Severity Code.\n",
    "\n",
    "The models aim was to predict the severity of an accident, considering that, the variable of Severity Code was in the form of 1 (Property Damage Only) and 2 (Injury Collision) which were encoded to the form of 0 (Property Damage Only) and 1 (Injury Collision). Furthermore, the Y was given value of 1 whereas N and no value was given 0 for the variables, “Speeding” and “Under the influence”. For lighting condition,Day Light was given 0 ,with Street Light ON as 1 and Street light off as 2. For “Road Condition”, Dry was assigned 0, Wet was assigned 1 and Snow/Ice was given 2. As for “Weather Condition”, 0 is Clear, rain/overcast is 1, Snow/hail is 2. If the accident was caused at intersection the value given was 0 and if not than 1 in “Junction Type”.Also no of persons and vehicles involved where also considered.A visual representation of each feature Variable –“value count” is given in the following page.\n"
   ]
  },
  {
   "cell_type": "code",
   "execution_count": null,
   "metadata": {},
   "outputs": [],
   "source": []
  },
  {
   "cell_type": "code",
   "execution_count": null,
   "metadata": {},
   "outputs": [],
   "source": []
  }
 ],
 "metadata": {
  "kernelspec": {
   "display_name": "Python",
   "language": "python",
   "name": "conda-env-python-py"
  },
  "language_info": {
   "codemirror_mode": {
    "name": "ipython",
    "version": 3
   },
   "file_extension": ".py",
   "mimetype": "text/x-python",
   "name": "python",
   "nbconvert_exporter": "python",
   "pygments_lexer": "ipython3",
   "version": "3.6.11"
  }
 },
 "nbformat": 4,
 "nbformat_minor": 4
}
